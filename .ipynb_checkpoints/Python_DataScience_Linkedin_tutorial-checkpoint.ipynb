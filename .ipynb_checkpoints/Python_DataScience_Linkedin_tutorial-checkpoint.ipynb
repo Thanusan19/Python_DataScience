{
 "cells": [
  {
   "cell_type": "markdown",
   "metadata": {},
   "source": [
    "# Python for Datascience Tutorial\n",
    "\n",
    "## I/ Basic operations\n",
    "### 1) Array"
   ]
  },
  {
   "cell_type": "code",
   "execution_count": 17,
   "metadata": {},
   "outputs": [
    {
     "name": "stdout",
     "output_type": "stream",
     "text": [
      "List length : 3\n",
      "First element type : <class 'str'>\n",
      "Array after append, remove and del operations :  [1, 10]\n"
     ]
    }
   ],
   "source": [
    "#Create list with different type of elements\n",
    "arr = ['a',1,5]\n",
    "\n",
    "#Have the array length\n",
    "print(\"List length :\", len(arr))\n",
    "\n",
    "#Have the type of the array element\n",
    "print(\"First element type :\", type(arr[0]))\n",
    "\n",
    "#Add element to a array\n",
    "arr.append(10)\n",
    "\n",
    "#Remove elements from array\n",
    "arr.remove('a')\n",
    "del arr[1]\n",
    "\n",
    "#display the array\n",
    "print(\"Array after append, remove and del operations : \",arr)\n"
   ]
  },
  {
   "cell_type": "code",
   "execution_count": 27,
   "metadata": {},
   "outputs": [
    {
     "name": "stdout",
     "output_type": "stream",
     "text": [
      "array 1 with concatenate :  [1, 2, 3, 'a', 'b', 3, 'a', 'b', 3]\n",
      "array 2 with append : ['a', 'b', 3, ['3', '4', '5']]\n"
     ]
    }
   ],
   "source": [
    "arr_1 = [1,2,3]\n",
    "arr_2 = [\"a\",\"b\",3]\n",
    "\n",
    "#Concatenate two array\n",
    "arr_1.extend(arr_2)\n",
    "arr_1 = arr_1 + arr_2\n",
    "\n",
    "#Concatenate is different from from append which add elements to the array\n",
    "arr_2.append([\"3\",\"4\",\"5\"])\n",
    "\n",
    "#display array\n",
    "print(\"array 1 with concatenate : \",arr_1) \n",
    "print(\"array 2 with append :\",arr_2)"
   ]
  },
  {
   "cell_type": "code",
   "execution_count": 29,
   "metadata": {},
   "outputs": [
    {
     "name": "stdout",
     "output_type": "stream",
     "text": [
      "Number of 1 in the array : 3\n",
      "Index of the number 1 in the array : 0\n",
      "Index of the number 3 in the array : 4\n",
      "Display the reversed array :  [3, 2, 1, 1, 1]\n"
     ]
    }
   ],
   "source": [
    "#Count the occurance of an elements in an array (here \"1\")\n",
    "arr = [1,1,1,2,3]\n",
    "print(\"Number of 1 in the array :\",arr.count(1))\n",
    "\n",
    "#Have the first index of an element in the array\n",
    "print(\"Index of the number 1 in the array :\", arr.index(1))\n",
    "print(\"Index of the number 3 in the array :\", arr.index(3))\n",
    "\n",
    "#Reverse an array\n",
    "arr.reverse()\n",
    "print(\"Display the reversed array : \",arr)"
   ]
  },
  {
   "cell_type": "code",
   "execution_count": 33,
   "metadata": {},
   "outputs": [
    {
     "name": "stdout",
     "output_type": "stream",
     "text": [
      "Insert '5' between '1' and '2' : [1, 5, 2, 3, 4]\n"
     ]
    }
   ],
   "source": [
    "#insert an element into an array\n",
    "#   arg 1 = index\n",
    "#   arg 2 = the element to insert\n",
    "arr = [1,2,3,4]\n",
    "arr.insert(1,5)\n",
    "print(\"Insert '5' between '1' and '2' :\",arr)"
   ]
  },
  {
   "cell_type": "markdown",
   "metadata": {},
   "source": [
    "### "
   ]
  }
 ],
 "metadata": {
  "kernelspec": {
   "display_name": "Python 3",
   "language": "python",
   "name": "python3"
  },
  "language_info": {
   "codemirror_mode": {
    "name": "ipython",
    "version": 3
   },
   "file_extension": ".py",
   "mimetype": "text/x-python",
   "name": "python",
   "nbconvert_exporter": "python",
   "pygments_lexer": "ipython3",
   "version": "3.8.3"
  }
 },
 "nbformat": 4,
 "nbformat_minor": 4
}

{
 "cells": [
  {
   "cell_type": "markdown",
   "metadata": {},
   "source": [
    "<h1 style=\"text-align:center;color:red;\"> Python for Datascience Tutorial </h1>\n",
    "\n",
    "<h2 style=\"color:Orange;\" > I/ Basic operations </h2>\n",
    "<h3 style=\"padding-left: 20px;\"> 1) Array </h3>"
   ]
  },
  {
   "cell_type": "code",
   "execution_count": 17,
   "metadata": {},
   "outputs": [
    {
     "name": "stdout",
     "output_type": "stream",
     "text": [
      "List length : 3\n",
      "First element type : <class 'str'>\n",
      "Array after append, remove and del operations :  [1, 10]\n"
     ]
    }
   ],
   "source": [
    "#Create list with different type of elements\n",
    "arr = ['a',1,5]\n",
    "\n",
    "#Have the array length\n",
    "print(\"List length :\", len(arr))\n",
    "\n",
    "#Have the type of the array element\n",
    "print(\"First element type :\", type(arr[0]))\n",
    "\n",
    "#Add element to a array\n",
    "arr.append(10)\n",
    "\n",
    "#Remove elements from array\n",
    "arr.remove('a')\n",
    "del arr[1]\n",
    "\n",
    "#display the array\n",
    "print(\"Array after append, remove and del operations : \",arr)\n"
   ]
  },
  {
   "cell_type": "code",
   "execution_count": 27,
   "metadata": {},
   "outputs": [
    {
     "name": "stdout",
     "output_type": "stream",
     "text": [
      "array 1 with concatenate :  [1, 2, 3, 'a', 'b', 3, 'a', 'b', 3]\n",
      "array 2 with append : ['a', 'b', 3, ['3', '4', '5']]\n"
     ]
    }
   ],
   "source": [
    "arr_1 = [1,2,3]\n",
    "arr_2 = [\"a\",\"b\",3]\n",
    "\n",
    "#Concatenate two array\n",
    "arr_1.extend(arr_2)\n",
    "arr_1 = arr_1 + arr_2\n",
    "\n",
    "#Concatenate is different from append which add elements to the array\n",
    "arr_2.append([\"3\",\"4\",\"5\"])\n",
    "\n",
    "#display array\n",
    "print(\"array 1 with concatenate : \",arr_1) \n",
    "print(\"array 2 with append :\",arr_2)"
   ]
  },
  {
   "cell_type": "code",
   "execution_count": 29,
   "metadata": {},
   "outputs": [
    {
     "name": "stdout",
     "output_type": "stream",
     "text": [
      "Number of 1 in the array : 3\n",
      "Index of the number 1 in the array : 0\n",
      "Index of the number 3 in the array : 4\n",
      "Display the reversed array :  [3, 2, 1, 1, 1]\n"
     ]
    }
   ],
   "source": [
    "#Count the occurance of an elements in an array (here \"1\")\n",
    "arr = [1,1,1,2,3]\n",
    "print(\"Number of 1 in the array :\",arr.count(1))\n",
    "\n",
    "#Have the first index of an element in the array\n",
    "print(\"Index of the number 1 in the array :\", arr.index(1))\n",
    "print(\"Index of the number 3 in the array :\", arr.index(3))\n",
    "\n",
    "#Reverse an array\n",
    "arr.reverse()\n",
    "print(\"Display the reversed array : \",arr)"
   ]
  },
  {
   "cell_type": "code",
   "execution_count": 33,
   "metadata": {},
   "outputs": [
    {
     "name": "stdout",
     "output_type": "stream",
     "text": [
      "Insert '5' between '1' and '2' : [1, 5, 2, 3, 4]\n"
     ]
    }
   ],
   "source": [
    "#insert an element into an array\n",
    "#   arg 1 = index\n",
    "#   arg 2 = the element to insert\n",
    "arr = [1,2,3,4]\n",
    "arr.insert(1,5)\n",
    "print(\"Insert '5' between '1' and '2' :\",arr)"
   ]
  },
  {
   "cell_type": "code",
   "execution_count": 42,
   "metadata": {},
   "outputs": [
    {
     "name": "stdout",
     "output_type": "stream",
     "text": [
      "Sorted array :  [1, 2, 5, 5, 8, 93]\n",
      "Sorted array in descending way : [93, 8, 5, 5, 2, 1]\n"
     ]
    }
   ],
   "source": [
    "#Sort a list\n",
    "arr = [2,5,8,93,1,5]\n",
    "arr.sort()\n",
    "sorted(arr) #another way to sort an array\n",
    "print(\"Sorted array : \",arr)\n",
    "\n",
    "#Sort an array in in descending order\n",
    "print(\"Sorted array in descending way :\",sorted(arr,reverse=True))"
   ]
  },
  {
   "cell_type": "code",
   "execution_count": 44,
   "metadata": {},
   "outputs": [
    {
     "data": {
      "text/plain": [
       "[3, 4, 5]"
      ]
     },
     "execution_count": 44,
     "metadata": {},
     "output_type": "execute_result"
    }
   ],
   "source": [
    "#Get subarrays\n",
    "arr= [1,2,3,4,5,6]\n",
    "arr[2:5]"
   ]
  },
  {
   "cell_type": "code",
   "execution_count": 45,
   "metadata": {},
   "outputs": [
    {
     "name": "stdout",
     "output_type": "stream",
     "text": [
      "1\n",
      "2\n",
      "3\n",
      "4\n",
      "5\n",
      "6\n"
     ]
    }
   ],
   "source": [
    "#Browse an array\n",
    "for element in arr:\n",
    "    print(element)"
   ]
  },
  {
   "cell_type": "code",
   "execution_count": 46,
   "metadata": {},
   "outputs": [
    {
     "name": "stdout",
     "output_type": "stream",
     "text": [
      "(0, 1)\n",
      "(1, 2)\n",
      "(2, 3)\n",
      "(3, 4)\n",
      "(4, 5)\n",
      "(5, 6)\n"
     ]
    }
   ],
   "source": [
    "#Browse array with (index,element)\n",
    "for element in enumerate(arr):\n",
    "    print(element)"
   ]
  },
  {
   "cell_type": "code",
   "execution_count": 49,
   "metadata": {},
   "outputs": [
    {
     "data": {
      "text/plain": [
       "[1, '2', '3', '4']"
      ]
     },
     "execution_count": 49,
     "metadata": {},
     "output_type": "execute_result"
    }
   ],
   "source": [
    "#Split a string element as an array\n",
    "string_element = \"1,2,3,4\"\n",
    "arr = string_element.split(',')\n",
    "\n",
    "#Cast array element as 'int' type\n",
    "arr[0] = int(arr[0])\n",
    "arr\n"
   ]
  },
  {
   "cell_type": "markdown",
   "metadata": {},
   "source": [
    "<h3 style=\"padding-left: 20px;\"> 2) Dictionary</h3>"
   ]
  },
  {
   "cell_type": "code",
   "execution_count": 1,
   "metadata": {},
   "outputs": [
    {
     "data": {
      "text/plain": [
       "{'Benatia': 'Juventus', 'Messi': 'Barcelone'}"
      ]
     },
     "execution_count": 1,
     "metadata": {},
     "output_type": "execute_result"
    }
   ],
   "source": [
    "#Init dictionary --> \"key\":\"value\"\n",
    "team = {'Benatia':'Juventus','Messi':'Barcelone'}\n",
    "team"
   ]
  },
  {
   "cell_type": "code",
   "execution_count": 7,
   "metadata": {},
   "outputs": [
    {
     "data": {
      "text/plain": [
       "'unknown'"
      ]
     },
     "execution_count": 7,
     "metadata": {},
     "output_type": "execute_result"
    }
   ],
   "source": [
    "#Access an element from a dictionary by using a key\n",
    "team['Benatia']\n",
    "team.get('Benatia')\n",
    "#If the asked key is not present into the dictionary --> we can \"specify a value to return\"\n",
    "team.get('Pogba','unknown')"
   ]
  },
  {
   "cell_type": "code",
   "execution_count": 8,
   "metadata": {},
   "outputs": [
    {
     "data": {
      "text/plain": [
       "{'Benatia': 'Juventus', 'Messi': 'Barcelone', 'Hazard': 'Chelsea'}"
      ]
     },
     "execution_count": 8,
     "metadata": {},
     "output_type": "execute_result"
    }
   ],
   "source": [
    "#Add an element\n",
    "team['Hazard']=\"Chelsea\"\n",
    "team"
   ]
  },
  {
   "cell_type": "code",
   "execution_count": 9,
   "metadata": {},
   "outputs": [
    {
     "data": {
      "text/plain": [
       "False"
      ]
     },
     "execution_count": 9,
     "metadata": {},
     "output_type": "execute_result"
    }
   ],
   "source": [
    "#Check if a key is into the dictionary\n",
    "'Christiano' in team"
   ]
  },
  {
   "cell_type": "code",
   "execution_count": 10,
   "metadata": {},
   "outputs": [
    {
     "data": {
      "text/plain": [
       "{'Benatia': 'Juventus', 'Messi': 'Barcelone'}"
      ]
     },
     "execution_count": 10,
     "metadata": {},
     "output_type": "execute_result"
    }
   ],
   "source": [
    "#Delete an element\n",
    "del team['Hazard']\n",
    "team"
   ]
  },
  {
   "cell_type": "code",
   "execution_count": 11,
   "metadata": {},
   "outputs": [
    {
     "name": "stdout",
     "output_type": "stream",
     "text": [
      "dict_keys(['Benatia', 'Messi'])\n"
     ]
    }
   ],
   "source": [
    "#Display all \"keys\"\n",
    "print(team.keys())"
   ]
  },
  {
   "cell_type": "code",
   "execution_count": 12,
   "metadata": {},
   "outputs": [
    {
     "name": "stdout",
     "output_type": "stream",
     "text": [
      "dict_values(['Juventus', 'Barcelone'])\n"
     ]
    }
   ],
   "source": [
    "#Display all \"values\"\n",
    "print(team.values())"
   ]
  },
  {
   "cell_type": "code",
   "execution_count": 15,
   "metadata": {},
   "outputs": [
    {
     "name": "stdout",
     "output_type": "stream",
     "text": [
      "dict_items([('Benatia', 'Juventus'), ('Messi', 'Barcelone')]) \n",
      "\n",
      "Benatia  plays at  Juventus\n",
      "Messi  plays at  Barcelone\n"
     ]
    }
   ],
   "source": [
    "#Display \"keys\" and \"values\"\n",
    "print(team.items(),\"\\n\")\n",
    "\n",
    "for key,value in team.items():\n",
    "    print(key, \" plays at \",value)"
   ]
  },
  {
   "cell_type": "code",
   "execution_count": 17,
   "metadata": {},
   "outputs": [
    {
     "data": {
      "text/plain": [
       "{'Benatia': 'Juventus',\n",
       " 'Messi': 'Barcelone',\n",
       " 'Hazard': 'Chelsea',\n",
       " 'Pogba': 'PSG'}"
      ]
     },
     "execution_count": 17,
     "metadata": {},
     "output_type": "execute_result"
    }
   ],
   "source": [
    "#Concatenate two dictionaries\n",
    "team1 = {'Benatia':'Juventus','Messi':'Barcelone'}\n",
    "team2 = {'Hazard':'Chelsea','Pogba':'PSG'}\n",
    "\n",
    "team1.update(team2)\n",
    "team1"
   ]
  },
  {
   "cell_type": "markdown",
   "metadata": {},
   "source": [
    "<h3 style=\"padding-left: 20px;\"> 3) Apply a function to each element of a list : \"Comprehension\"</h3>"
   ]
  },
  {
   "cell_type": "code",
   "execution_count": 18,
   "metadata": {},
   "outputs": [
    {
     "data": {
      "text/plain": [
       "[0, 2, 4, 6, 8, 10, 12, 14, 16, 18]"
      ]
     },
     "execution_count": 18,
     "metadata": {},
     "output_type": "execute_result"
    }
   ],
   "source": [
    "#Have an odd array\n",
    "arr = []\n",
    "arr_odd = []\n",
    "arr = range(20)\n",
    "\n",
    "for i in range(len(arr)):\n",
    "    if arr[i]%2==0:\n",
    "        arr_odd.append(arr[i])\n",
    "arr_odd"
   ]
  },
  {
   "cell_type": "code",
   "execution_count": 19,
   "metadata": {},
   "outputs": [
    {
     "data": {
      "text/plain": [
       "[0, 2, 4, 6, 8, 10, 12, 14, 16, 18]"
      ]
     },
     "execution_count": 19,
     "metadata": {},
     "output_type": "execute_result"
    }
   ],
   "source": [
    "#One Line of code : Have an odd array\n",
    "arr_odd = [x for x in arr if x % 2 == 0]\n",
    "arr_odd"
   ]
  },
  {
   "cell_type": "code",
   "execution_count": 25,
   "metadata": {},
   "outputs": [
    {
     "data": {
      "text/plain": [
       "{0: 0, 2: 4, 4: 8, 6: 12, 8: 16, 10: 20, 12: 24, 14: 28, 16: 32, 18: 36}"
      ]
     },
     "execution_count": 25,
     "metadata": {},
     "output_type": "execute_result"
    }
   ],
   "source": [
    "#Create a dictionary with \"(odd number) as key\" and \"(2 * odd number) as value\"\n",
    "dicti = {i:2*i for i in range(20) if i % 2 == 0}\n",
    "dicti"
   ]
  },
  {
   "cell_type": "code",
   "execution_count": 27,
   "metadata": {},
   "outputs": [
    {
     "data": {
      "text/plain": [
       "{0: 0, 4: 2, 8: 4, 12: 6, 16: 8, 20: 10, 24: 12, 28: 14, 32: 16, 36: 18}"
      ]
     },
     "execution_count": 27,
     "metadata": {},
     "output_type": "execute_result"
    }
   ],
   "source": [
    "#Inverse \"key\" and \"value\" of a dictionary\n",
    "inv_dicti = {dicti[key]:key for key in dicti.keys()}\n",
    "inv_dicti"
   ]
  },
  {
   "cell_type": "code",
   "execution_count": 31,
   "metadata": {},
   "outputs": [
    {
     "name": "stdout",
     "output_type": "stream",
     "text": [
      "<generator object <genexpr> at 0x7ff670b717b0>\n"
     ]
    },
    {
     "data": {
      "text/plain": [
       "2470"
      ]
     },
     "execution_count": 31,
     "metadata": {},
     "output_type": "execute_result"
    }
   ],
   "source": [
    "#Generator --> a code whihch is not executed until it's asked for use\n",
    "g = (i**2 for i in range(20))\n",
    "print(g) #here the list didn't exit yet\n",
    "\n",
    "#Use the genertor into an operation \n",
    "sum(g)"
   ]
  },
  {
   "cell_type": "markdown",
   "metadata": {},
   "source": [
    "<h2 style=\"color:Orange;\" > II/ Load and Process Data </h2>\n"
   ]
  },
  {
   "cell_type": "markdown",
   "metadata": {},
   "source": [
    "<h3 style=\"padding-left: 20px;\"> 1) Why Pre-process Data </h3>\n",
    "<p>Need to pre-process data in order to not give inaccurate data to our model.</p>\n",
    "<p>Data pre-processing steps : </p>\n",
    "<ol>\n",
    "  <li>Data cleaning : \n",
    "      <ul>\n",
    "          <li>manage missing data : ignore missing value, fill up manually, take an average value to fill up,                    make a learning algorithm to deal this case</li>\n",
    "          <li>manage data noise : problem on the sensor or wrong entry</li>\n",
    "          <li>Correct inconsistencies</li>\n",
    "          <li>Delete Redundancy</li>\n",
    "      </ul>\n",
    "  </li>\n",
    "  <li>Integration : standardize data from different databases</li>\n",
    "  <li>Transformation : change data according to our use case by reducing noise, using a normalized input varaibles       ...</li>\n",
    "  <li>Reduction : reduce the number of data by grouping data, doing sampling...</li>\n",
    "  <li>Discretization : define classes</li>\n",
    "</ol>\n"
   ]
  },
  {
   "cell_type": "markdown",
   "metadata": {},
   "source": [
    "<h3 style=\"padding-left: 20px;\"> 2) Load Excel and CSV files</h3>"
   ]
  },
  {
   "cell_type": "code",
   "execution_count": null,
   "metadata": {},
   "outputs": [],
   "source": []
  },
  {
   "cell_type": "code",
   "execution_count": null,
   "metadata": {},
   "outputs": [],
   "source": []
  },
  {
   "cell_type": "code",
   "execution_count": null,
   "metadata": {},
   "outputs": [],
   "source": []
  },
  {
   "cell_type": "code",
   "execution_count": null,
   "metadata": {},
   "outputs": [],
   "source": []
  },
  {
   "cell_type": "markdown",
   "metadata": {},
   "source": [
    "<h3 style=\"padding-left: 20px;\"> 3) Load JSON file</h3>"
   ]
  },
  {
   "cell_type": "code",
   "execution_count": null,
   "metadata": {},
   "outputs": [],
   "source": []
  },
  {
   "cell_type": "code",
   "execution_count": null,
   "metadata": {},
   "outputs": [],
   "source": []
  },
  {
   "cell_type": "code",
   "execution_count": null,
   "metadata": {},
   "outputs": [],
   "source": []
  },
  {
   "cell_type": "code",
   "execution_count": null,
   "metadata": {},
   "outputs": [],
   "source": []
  },
  {
   "cell_type": "code",
   "execution_count": null,
   "metadata": {},
   "outputs": [],
   "source": []
  }
 ],
 "metadata": {
  "kernelspec": {
   "display_name": "Python 3",
   "language": "python",
   "name": "python3"
  },
  "language_info": {
   "codemirror_mode": {
    "name": "ipython",
    "version": 3
   },
   "file_extension": ".py",
   "mimetype": "text/x-python",
   "name": "python",
   "nbconvert_exporter": "python",
   "pygments_lexer": "ipython3",
   "version": "3.8.3"
  }
 },
 "nbformat": 4,
 "nbformat_minor": 4
}
